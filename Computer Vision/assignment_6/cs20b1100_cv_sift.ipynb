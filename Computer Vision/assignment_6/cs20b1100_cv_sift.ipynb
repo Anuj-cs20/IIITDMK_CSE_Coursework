{
 "cells": [
  {
   "cell_type": "code",
   "execution_count": 34,
   "metadata": {},
   "outputs": [],
   "source": [
    "import cv2\n",
    "import os \n",
    "import numpy as np\n",
    "from sklearn.model_selection import train_test_split\n",
    "import matplotlib.pyplot as plt"
   ]
  },
  {
   "cell_type": "code",
   "execution_count": 37,
   "metadata": {},
   "outputs": [],
   "source": [
    "def extract_sift_features(image):\n",
    "    # Get keypoints and discriptors\n",
    "    sift = cv2.SIFT_create()\n",
    "    _, descriptors = sift.detectAndCompute(image, None)\n",
    "    return descriptors"
   ]
  },
  {
   "cell_type": "code",
   "execution_count": 72,
   "metadata": {},
   "outputs": [],
   "source": [
    "X_train_1 = []\n",
    "X_test_1 = []\n",
    "y_train_1 = []\n",
    "y_test_1 = []\n",
    "\n",
    "count = 0\n",
    "for filename in os.listdir('images/database'):\n",
    "    if filename == '.DS_Store':\n",
    "        continue\n",
    "    img = plt.imread('images/database/' + filename)\n",
    "    # img = cv2.resize(img, (1500, 1500))\n",
    "    X_train_1.append(img)\n",
    "    y_train_1.append(count//8)\n",
    "    count += 1\n",
    "\n",
    "count = 0\n",
    "for filename in os.listdir('images/test'):\n",
    "    if filename == '.DS_Store':\n",
    "        continue\n",
    "    img = plt.imread('images/test/' + filename)\n",
    "    # img = cv2.resize(img, (1500, 1500))\n",
    "    X_test_1.append(img)\n",
    "    y_test_1.append(count//2)\n",
    "    count += 1"
   ]
  },
  {
   "cell_type": "code",
   "execution_count": 73,
   "metadata": {},
   "outputs": [],
   "source": [
    "sift_features_train = [extract_sift_features(img) for img in X_train_1]\n",
    "sift_features_test = [extract_sift_features(img) for img in X_test_1]"
   ]
  },
  {
   "cell_type": "code",
   "execution_count": 74,
   "metadata": {},
   "outputs": [],
   "source": [
    "def BF_FeatureMatcher(des1,des2):    \n",
    "    # Find the Euclidean distance between the 2 discriptors\n",
    "    brute_force = cv2.BFMatcher(cv2.NORM_L2,crossCheck=True)\n",
    "    no_of_matches = brute_force.match(des1,des2)\n",
    "    \n",
    "    no_of_matches = sorted(no_of_matches,key=lambda x:x.distance)\n",
    "    return no_of_matches"
   ]
  },
  {
   "cell_type": "code",
   "execution_count": 75,
   "metadata": {},
   "outputs": [],
   "source": [
    "total_tests = len(X_test_1)\n",
    "total_train = len(X_train_1)\n",
    "preds = []\n",
    "\n",
    "for i in range(total_tests):\n",
    "    found_label, min_distance = 0, float(\"inf\")\n",
    "    for j in range(total_train):\n",
    "        matches = BF_FeatureMatcher(sift_features_test[i], sift_features_train[j])\n",
    "        if min_distance > matches[0].distance:\n",
    "            min_distance = matches[0].distance\n",
    "            found_label = y_train_1[j]\n",
    "    \n",
    "    preds.append(found_label)"
   ]
  },
  {
   "cell_type": "code",
   "execution_count": 77,
   "metadata": {},
   "outputs": [
    {
     "name": "stdout",
     "output_type": "stream",
     "text": [
      "Accuracy : 94%\n"
     ]
    }
   ],
   "source": [
    "correct_matches = 0\n",
    "for i in range(total_tests):\n",
    "    if y_test_1[i] == preds[i]:\n",
    "        correct_matches += 1\n",
    "\n",
    "accuracy = (correct_matches / total_tests)*100\n",
    "print(f\"Accuracy : {accuracy: .2f} %\")"
   ]
  }
 ],
 "metadata": {
  "kernelspec": {
   "display_name": "Python 3",
   "language": "python",
   "name": "python3"
  },
  "language_info": {
   "codemirror_mode": {
    "name": "ipython",
    "version": 3
   },
   "file_extension": ".py",
   "mimetype": "text/x-python",
   "name": "python",
   "nbconvert_exporter": "python",
   "pygments_lexer": "ipython3",
   "version": "3.10.11"
  }
 },
 "nbformat": 4,
 "nbformat_minor": 2
}
