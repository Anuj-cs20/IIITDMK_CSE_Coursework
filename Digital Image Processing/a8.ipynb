{
 "cells": [
  {
   "cell_type": "code",
   "execution_count": null,
   "metadata": {},
   "outputs": [],
   "source": [
    "import numpy as np\n",
    "import cv2\n",
    "\n",
    "# Creating concentric square image\n",
    "n = 256\n",
    "image = np.zeros((n, n))\n",
    "image[n//4:3*n//4, n//4:3*n//4] = 125\n",
    "\n",
    "# Finding projections\n",
    "row_pro = np.sum(image, axis=0)\n",
    "col_pro = np.sum(image, axis=1)\n",
    "diag_45_pro = np.sum(np.diag(image, k=45))\n",
    "diag_135_pro = np.sum(np.diag(np.fliplr(image), k=45))\n",
    "\n",
    "# Reconstructing image using row projection only\n",
    "row_recon = np.tile(row_pro / n, (n, 1))\n",
    "row_recon = cv2.normalize(row_recon, None, alpha=0, beta=255, norm_type=cv2.NORM_MINMAX, dtype=cv2.CV_8UC1)\n",
    "\n",
    "# Reconstructing image using row and column projections\n",
    "row_col_recon = np.tile(row_pro / n, (n, 1)) + np.tile(col_pro / n, (n, 1)).T - 125\n",
    "row_col_recon = cv2.normalize(row_col_recon, None, alpha=0, beta=255, norm_type=cv2.NORM_MINMAX, dtype=cv2.CV_8UC1)\n",
    "\n",
    "# Reconstructing image using row, column, and diagonal 45-degree projections\n",
    "diag_45_recon = np.zeros((n, n))\n",
    "for i in range(n):\n",
    "    for j in range(n):\n",
    "        if (i + j) == (n - 1):\n",
    "            diag_45_recon[i, j] = diag_45_pro / (2 * n - 1)\n",
    "diag_45_col_recon = row_col_recon + diag_45_recon - 125\n",
    "diag_45_col_recon = cv2.normalize(diag_45_col_recon, None, alpha=0, beta=255, norm_type=cv2.NORM_MINMAX, dtype=cv2.CV_8UC1)\n",
    "\n",
    "# Reconstructing image using row, column, and diagonal 45- and 135-degree projections\n",
    "diag_135_recon = np.zeros((n, n))\n",
    "for i in range(n):\n",
    "    for j in range(n):\n",
    "        if i == j:\n",
    "            diag_135_recon[i, j] = diag_135_pro / n\n",
    "diag_45_135_recon = diag_45_col_recon + diag_135_recon - 125\n",
    "diag_45_135_recon = cv2.normalize(diag_45_135_recon, None, alpha=0, beta=255, norm_type=cv2.NORM_MINMAX, dtype=cv2.CV_8UC1)\n",
    "\n",
    "\n",
    "cv2.imshow('Original Image', image)\n",
    "cv2.imshow('Row Projection Only', row_recon)\n",
    "cv2.imshow('Row and Column Projections', row_col_recon)\n",
    "cv2.imshow('Row, Column, and Diagonal 45-Degree Projections', diag_45_col_recon)\n",
    "cv2.imshow('Row, Column, and Diagonal 45- and 135-Degree Projections',\n",
    "           diag_45_135_recon)\n",
    "cv2.waitKey(0)\n",
    "cv2.destroyAllWindows()\n",
    "\n"
   ]
  }
 ],
 "metadata": {
  "kernelspec": {
   "display_name": "Python 3",
   "language": "python",
   "name": "python3"
  },
  "language_info": {
   "codemirror_mode": {
    "name": "ipython",
    "version": 3
   },
   "file_extension": ".py",
   "mimetype": "text/x-python",
   "name": "python",
   "nbconvert_exporter": "python",
   "pygments_lexer": "ipython3",
   "version": "3.10.9"
  },
  "orig_nbformat": 4
 },
 "nbformat": 4,
 "nbformat_minor": 2
}
