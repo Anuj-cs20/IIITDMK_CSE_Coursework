{
 "cells": [
  {
   "cell_type": "code",
   "execution_count": 1,
   "metadata": {},
   "outputs": [
    {
     "name": "stderr",
     "output_type": "stream",
     "text": [
      "2023-11-14 16:37:26.395 Python[3310:232708] WARNING: Secure coding is not enabled for restorable state! Enable secure coding by implementing NSApplicationDelegate.applicationSupportsSecureRestorableState: and returning YES.\n"
     ]
    },
    {
     "name": "stdout",
     "output_type": "stream",
     "text": [
      "Total number of connected components are: 25\n"
     ]
    },
    {
     "ename": "",
     "evalue": "",
     "output_type": "error",
     "traceback": [
      "\u001b[1;31mThe Kernel crashed while executing code in the the current cell or a previous cell. Please review the code in the cell(s) to identify a possible cause of the failure. Click <a href='https://aka.ms/vscodeJupyterKernelCrash'>here</a> for more info. View Jupyter <a href='command:jupyter.viewOutput'>log</a> for further details."
     ]
    }
   ],
   "source": [
    "import cv2 \n",
    "import numpy as np\n",
    "from matplotlib import pyplot as plt\n",
    "\n",
    "img = cv2.imread('water_coins.jpg')\n",
    "\n",
    "greyish = cv2.cvtColor(img,cv2.COLOR_BGR2GRAY)\n",
    "answer, thresh = cv2.threshold(greyish,0,255,cv2.THRESH_BINARY_INV+cv2.THRESH_OTSU)\n",
    "\n",
    "kernel = np.ones((3,3),np.uint8)\n",
    "opening = cv2.morphologyEx(thresh,cv2.MORPH_OPEN,kernel, iterations = 2)\n",
    "# sure background area\n",
    "sure_bg = cv2.dilate(opening,kernel,iterations=3)\n",
    "# Finding sure foreground area\n",
    "distance_transform = cv2.distanceTransform(opening,cv2.DIST_L2,5)\n",
    "answer, foreground = cv2.threshold(distance_transform,0.7*distance_transform.max(),255,0)\n",
    "# Finding unknown region\n",
    "foreground = np.uint8(foreground)\n",
    "unknown = cv2.subtract(sure_bg,foreground)\n",
    "\n",
    "answer, corrector = cv2.connectedComponents(foreground)\n",
    "# Add one to all labels so that sure background is not 0, but 1\n",
    "corrector = corrector+1\n",
    "# Now, mark the region of unknown with zero\n",
    "corrector[unknown==255] = 0\n",
    "\n",
    "corrector = cv2.watershed(img,corrector)\n",
    "img[corrector == -1] = [255,0,0]\n",
    "\n",
    "cv2.imshow(\"Output Image\",cv2.cvtColor(img,cv2.COLOR_BGR2RGB))\n",
    "cv2.waitKey(0)\n",
    "\n",
    "cv2.destroyAllWindows()\n",
    "\n",
    "print(\"Total number of connected components are:\",answer)"
   ]
  }
 ],
 "metadata": {
  "kernelspec": {
   "display_name": "Python 3",
   "language": "python",
   "name": "python3"
  },
  "language_info": {
   "codemirror_mode": {
    "name": "ipython",
    "version": 3
   },
   "file_extension": ".py",
   "mimetype": "text/x-python",
   "name": "python",
   "nbconvert_exporter": "python",
   "pygments_lexer": "ipython3",
   "version": "3.10.11"
  }
 },
 "nbformat": 4,
 "nbformat_minor": 2
}
